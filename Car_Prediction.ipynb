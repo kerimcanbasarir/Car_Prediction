{
 "cells": [
  {
   "cell_type": "markdown",
   "id": "06a62f9b",
   "metadata": {},
   "source": [
    "### data analysis and data preprocessing"
   ]
  },
  {
   "cell_type": "code",
   "execution_count": 11,
   "id": "3aaf0437",
   "metadata": {},
   "outputs": [],
   "source": [
    "import pandas as pd\n",
    "import seaborn as sns\n",
    "import numpy as np\n",
    "import matplotlib.pyplot as plt\n"
   ]
  },
  {
   "cell_type": "code",
   "execution_count": 12,
   "id": "dde5a55e",
   "metadata": {},
   "outputs": [],
   "source": [
    "data = pd.read_excel(\"merc.xlsx\")"
   ]
  },
  {
   "cell_type": "code",
   "execution_count": 13,
   "id": "29ce2c94",
   "metadata": {},
   "outputs": [],
   "source": [
    "df = data.copy()"
   ]
  },
  {
   "cell_type": "code",
   "execution_count": 15,
   "id": "adc671ec",
   "metadata": {},
   "outputs": [
    {
     "data": {
      "text/html": [
       "<div>\n",
       "<style scoped>\n",
       "    .dataframe tbody tr th:only-of-type {\n",
       "        vertical-align: middle;\n",
       "    }\n",
       "\n",
       "    .dataframe tbody tr th {\n",
       "        vertical-align: top;\n",
       "    }\n",
       "\n",
       "    .dataframe thead th {\n",
       "        text-align: right;\n",
       "    }\n",
       "</style>\n",
       "<table border=\"1\" class=\"dataframe\">\n",
       "  <thead>\n",
       "    <tr style=\"text-align: right;\">\n",
       "      <th></th>\n",
       "      <th>year</th>\n",
       "      <th>price</th>\n",
       "      <th>transmission</th>\n",
       "      <th>mileage</th>\n",
       "      <th>tax</th>\n",
       "      <th>mpg</th>\n",
       "      <th>engineSize</th>\n",
       "    </tr>\n",
       "  </thead>\n",
       "  <tbody>\n",
       "    <tr>\n",
       "      <th>0</th>\n",
       "      <td>2005</td>\n",
       "      <td>5200</td>\n",
       "      <td>Automatic</td>\n",
       "      <td>63000</td>\n",
       "      <td>325</td>\n",
       "      <td>32.1</td>\n",
       "      <td>1.8</td>\n",
       "    </tr>\n",
       "    <tr>\n",
       "      <th>1</th>\n",
       "      <td>2017</td>\n",
       "      <td>34948</td>\n",
       "      <td>Automatic</td>\n",
       "      <td>27000</td>\n",
       "      <td>20</td>\n",
       "      <td>61.4</td>\n",
       "      <td>2.1</td>\n",
       "    </tr>\n",
       "    <tr>\n",
       "      <th>2</th>\n",
       "      <td>2016</td>\n",
       "      <td>49948</td>\n",
       "      <td>Automatic</td>\n",
       "      <td>6200</td>\n",
       "      <td>555</td>\n",
       "      <td>28.0</td>\n",
       "      <td>5.5</td>\n",
       "    </tr>\n",
       "    <tr>\n",
       "      <th>3</th>\n",
       "      <td>2016</td>\n",
       "      <td>61948</td>\n",
       "      <td>Automatic</td>\n",
       "      <td>16000</td>\n",
       "      <td>325</td>\n",
       "      <td>30.4</td>\n",
       "      <td>4.0</td>\n",
       "    </tr>\n",
       "    <tr>\n",
       "      <th>4</th>\n",
       "      <td>2016</td>\n",
       "      <td>73948</td>\n",
       "      <td>Automatic</td>\n",
       "      <td>4000</td>\n",
       "      <td>325</td>\n",
       "      <td>30.1</td>\n",
       "      <td>4.0</td>\n",
       "    </tr>\n",
       "  </tbody>\n",
       "</table>\n",
       "</div>"
      ],
      "text/plain": [
       "   year  price transmission  mileage  tax   mpg  engineSize\n",
       "0  2005   5200    Automatic    63000  325  32.1         1.8\n",
       "1  2017  34948    Automatic    27000   20  61.4         2.1\n",
       "2  2016  49948    Automatic     6200  555  28.0         5.5\n",
       "3  2016  61948    Automatic    16000  325  30.4         4.0\n",
       "4  2016  73948    Automatic     4000  325  30.1         4.0"
      ]
     },
     "execution_count": 15,
     "metadata": {},
     "output_type": "execute_result"
    }
   ],
   "source": [
    "df.head()"
   ]
  },
  {
   "cell_type": "code",
   "execution_count": 16,
   "id": "e8cc93cd",
   "metadata": {},
   "outputs": [
    {
     "data": {
      "text/html": [
       "<div>\n",
       "<style scoped>\n",
       "    .dataframe tbody tr th:only-of-type {\n",
       "        vertical-align: middle;\n",
       "    }\n",
       "\n",
       "    .dataframe tbody tr th {\n",
       "        vertical-align: top;\n",
       "    }\n",
       "\n",
       "    .dataframe thead th {\n",
       "        text-align: right;\n",
       "    }\n",
       "</style>\n",
       "<table border=\"1\" class=\"dataframe\">\n",
       "  <thead>\n",
       "    <tr style=\"text-align: right;\">\n",
       "      <th></th>\n",
       "      <th>count</th>\n",
       "      <th>mean</th>\n",
       "      <th>std</th>\n",
       "      <th>min</th>\n",
       "      <th>25%</th>\n",
       "      <th>50%</th>\n",
       "      <th>75%</th>\n",
       "      <th>max</th>\n",
       "    </tr>\n",
       "  </thead>\n",
       "  <tbody>\n",
       "    <tr>\n",
       "      <th>year</th>\n",
       "      <td>13119.0</td>\n",
       "      <td>2017.296288</td>\n",
       "      <td>2.224709</td>\n",
       "      <td>1970.0</td>\n",
       "      <td>2016.0</td>\n",
       "      <td>2018.0</td>\n",
       "      <td>2019.0</td>\n",
       "      <td>2020.0</td>\n",
       "    </tr>\n",
       "    <tr>\n",
       "      <th>price</th>\n",
       "      <td>13119.0</td>\n",
       "      <td>24698.596920</td>\n",
       "      <td>11842.675542</td>\n",
       "      <td>650.0</td>\n",
       "      <td>17450.0</td>\n",
       "      <td>22480.0</td>\n",
       "      <td>28980.0</td>\n",
       "      <td>159999.0</td>\n",
       "    </tr>\n",
       "    <tr>\n",
       "      <th>mileage</th>\n",
       "      <td>13119.0</td>\n",
       "      <td>21949.559037</td>\n",
       "      <td>21176.512267</td>\n",
       "      <td>1.0</td>\n",
       "      <td>6097.5</td>\n",
       "      <td>15189.0</td>\n",
       "      <td>31779.5</td>\n",
       "      <td>259000.0</td>\n",
       "    </tr>\n",
       "    <tr>\n",
       "      <th>tax</th>\n",
       "      <td>13119.0</td>\n",
       "      <td>129.972178</td>\n",
       "      <td>65.260286</td>\n",
       "      <td>0.0</td>\n",
       "      <td>125.0</td>\n",
       "      <td>145.0</td>\n",
       "      <td>145.0</td>\n",
       "      <td>580.0</td>\n",
       "    </tr>\n",
       "    <tr>\n",
       "      <th>mpg</th>\n",
       "      <td>13119.0</td>\n",
       "      <td>55.155843</td>\n",
       "      <td>15.220082</td>\n",
       "      <td>1.1</td>\n",
       "      <td>45.6</td>\n",
       "      <td>56.5</td>\n",
       "      <td>64.2</td>\n",
       "      <td>217.3</td>\n",
       "    </tr>\n",
       "    <tr>\n",
       "      <th>engineSize</th>\n",
       "      <td>13119.0</td>\n",
       "      <td>2.071530</td>\n",
       "      <td>0.572426</td>\n",
       "      <td>0.0</td>\n",
       "      <td>1.8</td>\n",
       "      <td>2.0</td>\n",
       "      <td>2.1</td>\n",
       "      <td>6.2</td>\n",
       "    </tr>\n",
       "  </tbody>\n",
       "</table>\n",
       "</div>"
      ],
      "text/plain": [
       "              count          mean           std     min      25%      50%  \\\n",
       "year        13119.0   2017.296288      2.224709  1970.0   2016.0   2018.0   \n",
       "price       13119.0  24698.596920  11842.675542   650.0  17450.0  22480.0   \n",
       "mileage     13119.0  21949.559037  21176.512267     1.0   6097.5  15189.0   \n",
       "tax         13119.0    129.972178     65.260286     0.0    125.0    145.0   \n",
       "mpg         13119.0     55.155843     15.220082     1.1     45.6     56.5   \n",
       "engineSize  13119.0      2.071530      0.572426     0.0      1.8      2.0   \n",
       "\n",
       "                75%       max  \n",
       "year         2019.0    2020.0  \n",
       "price       28980.0  159999.0  \n",
       "mileage     31779.5  259000.0  \n",
       "tax           145.0     580.0  \n",
       "mpg            64.2     217.3  \n",
       "engineSize      2.1       6.2  "
      ]
     },
     "execution_count": 16,
     "metadata": {},
     "output_type": "execute_result"
    }
   ],
   "source": [
    "df.describe().T"
   ]
  },
  {
   "cell_type": "code",
   "execution_count": 17,
   "id": "16975282",
   "metadata": {},
   "outputs": [
    {
     "data": {
      "text/plain": [
       "year            0\n",
       "price           0\n",
       "transmission    0\n",
       "mileage         0\n",
       "tax             0\n",
       "mpg             0\n",
       "engineSize      0\n",
       "dtype: int64"
      ]
     },
     "execution_count": 17,
     "metadata": {},
     "output_type": "execute_result"
    }
   ],
   "source": [
    "# boş gözlem birimlerinin tespiti\n",
    "df.isnull().sum()"
   ]
  },
  {
   "cell_type": "code",
   "execution_count": 23,
   "id": "156fa29d",
   "metadata": {},
   "outputs": [
    {
     "name": "stderr",
     "output_type": "stream",
     "text": [
      "C:\\Users\\kerim\\anaconda3\\envs\\project_1\\lib\\site-packages\\seaborn\\distributions.py:2619: FutureWarning: `distplot` is a deprecated function and will be removed in a future version. Please adapt your code to use either `displot` (a figure-level function with similar flexibility) or `histplot` (an axes-level function for histograms).\n",
      "  warnings.warn(msg, FutureWarning)\n"
     ]
    },
    {
     "data": {
      "text/plain": [
       "<AxesSubplot:xlabel='price', ylabel='Density'>"
      ]
     },
     "execution_count": 23,
     "metadata": {},
     "output_type": "execute_result"
    },
    {
     "data": {
      "image/png": "[encoded data removed]",
      "text/plain": [
       "<Figure size 700x500 with 1 Axes>"
      ]
     },
     "metadata": {},
     "output_type": "display_data"
    }
   ],
   "source": [
    "#fiyat dağılımı grafiği\n",
    "plt.figure(figsize=(7,5))\n",
    "sns.distplot(df[\"price\"])"
   ]
  },
  {
   "cell_type": "code",
   "execution_count": 36,
   "id": "2fe87506",
   "metadata": {},
   "outputs": [
    {
     "name": "stderr",
     "output_type": "stream",
     "text": [
      "C:\\Users\\kerim\\anaconda3\\envs\\project_1\\lib\\site-packages\\seaborn\\_decorators.py:36: FutureWarning: Pass the following variable as a keyword arg: x. From version 0.12, the only valid positional argument will be `data`, and passing other arguments without an explicit keyword will result in an error or misinterpretation.\n",
      "  warnings.warn(\n"
     ]
    },
    {
     "data": {
      "text/plain": [
       "<AxesSubplot:xlabel='year', ylabel='count'>"
      ]
     },
     "execution_count": 36,
     "metadata": {},
     "output_type": "execute_result"
    },
    {
     "data": {
      "image/png": "[encoded data removed]",
      "text/plain": [
       "<Figure size 1500x300 with 1 Axes>"
      ]
     },
     "metadata": {},
     "output_type": "display_data"
    }
   ],
   "source": [
    "plt.figure(figsize=(15,3))\n",
    "sns.countplot(df[\"year\"])"
   ]
  },
  {
   "cell_type": "code",
   "execution_count": 40,
   "id": "42783f35",
   "metadata": {},
   "outputs": [
    {
     "data": {
      "text/plain": [
       "mileage      -0.537214\n",
       "mpg          -0.438445\n",
       "tax           0.268717\n",
       "engineSize    0.516126\n",
       "year          0.520712\n",
       "price         1.000000\n",
       "Name: price, dtype: float64"
      ]
     },
     "execution_count": 40,
     "metadata": {},
     "output_type": "execute_result"
    }
   ],
   "source": [
    "#değişkenlerin price değişkenine olan etkisi. price correlation\n",
    "df.corr()[\"price\"].sort_values()"
   ]
  },
  {
   "cell_type": "code",
   "execution_count": 41,
   "id": "6f53db51",
   "metadata": {},
   "outputs": [
    {
     "data": {
      "text/plain": [
       "<AxesSubplot:xlabel='mileage', ylabel='price'>"
      ]
     },
     "execution_count": 41,
     "metadata": {},
     "output_type": "execute_result"
    },
    {
     "data": {
      "image/png": "[encoded data removed]",
      "text/plain": [
       "<Figure size 640x480 with 1 Axes>"
      ]
     },
     "metadata": {},
     "output_type": "display_data"
    }
   ],
   "source": [
    "sns.scatterplot(x=df.mileage, y=df.price)"
   ]
  },
  {
   "cell_type": "code",
   "execution_count": 43,
   "id": "8523a460",
   "metadata": {},
   "outputs": [
    {
     "data": {
      "text/html": [
       "<div>\n",
       "<style scoped>\n",
       "    .dataframe tbody tr th:only-of-type {\n",
       "        vertical-align: middle;\n",
       "    }\n",
       "\n",
       "    .dataframe tbody tr th {\n",
       "        vertical-align: top;\n",
       "    }\n",
       "\n",
       "    .dataframe thead th {\n",
       "        text-align: right;\n",
       "    }\n",
       "</style>\n",
       "<table border=\"1\" class=\"dataframe\">\n",
       "  <thead>\n",
       "    <tr style=\"text-align: right;\">\n",
       "      <th></th>\n",
       "      <th>year</th>\n",
       "      <th>price</th>\n",
       "      <th>transmission</th>\n",
       "      <th>mileage</th>\n",
       "      <th>tax</th>\n",
       "      <th>mpg</th>\n",
       "      <th>engineSize</th>\n",
       "    </tr>\n",
       "  </thead>\n",
       "  <tbody>\n",
       "    <tr>\n",
       "      <th>6199</th>\n",
       "      <td>2020</td>\n",
       "      <td>159999</td>\n",
       "      <td>Semi-Auto</td>\n",
       "      <td>1350</td>\n",
       "      <td>145</td>\n",
       "      <td>21.4</td>\n",
       "      <td>4.0</td>\n",
       "    </tr>\n",
       "    <tr>\n",
       "      <th>10044</th>\n",
       "      <td>2020</td>\n",
       "      <td>154998</td>\n",
       "      <td>Automatic</td>\n",
       "      <td>3000</td>\n",
       "      <td>150</td>\n",
       "      <td>21.4</td>\n",
       "      <td>4.0</td>\n",
       "    </tr>\n",
       "    <tr>\n",
       "      <th>5</th>\n",
       "      <td>2011</td>\n",
       "      <td>149948</td>\n",
       "      <td>Automatic</td>\n",
       "      <td>3000</td>\n",
       "      <td>570</td>\n",
       "      <td>21.4</td>\n",
       "      <td>6.2</td>\n",
       "    </tr>\n",
       "    <tr>\n",
       "      <th>8737</th>\n",
       "      <td>2019</td>\n",
       "      <td>140319</td>\n",
       "      <td>Semi-Auto</td>\n",
       "      <td>785</td>\n",
       "      <td>150</td>\n",
       "      <td>22.1</td>\n",
       "      <td>4.0</td>\n",
       "    </tr>\n",
       "    <tr>\n",
       "      <th>6386</th>\n",
       "      <td>2018</td>\n",
       "      <td>139995</td>\n",
       "      <td>Semi-Auto</td>\n",
       "      <td>13046</td>\n",
       "      <td>145</td>\n",
       "      <td>21.4</td>\n",
       "      <td>4.0</td>\n",
       "    </tr>\n",
       "    <tr>\n",
       "      <th>8</th>\n",
       "      <td>2019</td>\n",
       "      <td>139948</td>\n",
       "      <td>Automatic</td>\n",
       "      <td>12000</td>\n",
       "      <td>145</td>\n",
       "      <td>21.4</td>\n",
       "      <td>4.0</td>\n",
       "    </tr>\n",
       "    <tr>\n",
       "      <th>9133</th>\n",
       "      <td>2019</td>\n",
       "      <td>139559</td>\n",
       "      <td>Semi-Auto</td>\n",
       "      <td>1000</td>\n",
       "      <td>145</td>\n",
       "      <td>22.1</td>\n",
       "      <td>4.0</td>\n",
       "    </tr>\n",
       "    <tr>\n",
       "      <th>8821</th>\n",
       "      <td>2020</td>\n",
       "      <td>138439</td>\n",
       "      <td>Semi-Auto</td>\n",
       "      <td>1000</td>\n",
       "      <td>145</td>\n",
       "      <td>22.1</td>\n",
       "      <td>4.0</td>\n",
       "    </tr>\n",
       "    <tr>\n",
       "      <th>5902</th>\n",
       "      <td>2018</td>\n",
       "      <td>135771</td>\n",
       "      <td>Semi-Auto</td>\n",
       "      <td>19000</td>\n",
       "      <td>145</td>\n",
       "      <td>21.4</td>\n",
       "      <td>4.0</td>\n",
       "    </tr>\n",
       "    <tr>\n",
       "      <th>7864</th>\n",
       "      <td>2018</td>\n",
       "      <td>135124</td>\n",
       "      <td>Semi-Auto</td>\n",
       "      <td>18234</td>\n",
       "      <td>150</td>\n",
       "      <td>21.4</td>\n",
       "      <td>4.0</td>\n",
       "    </tr>\n",
       "    <tr>\n",
       "      <th>8673</th>\n",
       "      <td>2019</td>\n",
       "      <td>134219</td>\n",
       "      <td>Semi-Auto</td>\n",
       "      <td>1000</td>\n",
       "      <td>145</td>\n",
       "      <td>24.8</td>\n",
       "      <td>4.0</td>\n",
       "    </tr>\n",
       "    <tr>\n",
       "      <th>6210</th>\n",
       "      <td>2019</td>\n",
       "      <td>129990</td>\n",
       "      <td>Automatic</td>\n",
       "      <td>1000</td>\n",
       "      <td>145</td>\n",
       "      <td>24.8</td>\n",
       "      <td>4.0</td>\n",
       "    </tr>\n",
       "    <tr>\n",
       "      <th>4759</th>\n",
       "      <td>2019</td>\n",
       "      <td>126000</td>\n",
       "      <td>Automatic</td>\n",
       "      <td>250</td>\n",
       "      <td>145</td>\n",
       "      <td>24.6</td>\n",
       "      <td>4.0</td>\n",
       "    </tr>\n",
       "    <tr>\n",
       "      <th>2647</th>\n",
       "      <td>2019</td>\n",
       "      <td>125796</td>\n",
       "      <td>Automatic</td>\n",
       "      <td>637</td>\n",
       "      <td>145</td>\n",
       "      <td>24.8</td>\n",
       "      <td>4.0</td>\n",
       "    </tr>\n",
       "    <tr>\n",
       "      <th>6223</th>\n",
       "      <td>2019</td>\n",
       "      <td>124999</td>\n",
       "      <td>Automatic</td>\n",
       "      <td>1500</td>\n",
       "      <td>145</td>\n",
       "      <td>31.7</td>\n",
       "      <td>4.0</td>\n",
       "    </tr>\n",
       "    <tr>\n",
       "      <th>4094</th>\n",
       "      <td>2019</td>\n",
       "      <td>124366</td>\n",
       "      <td>Semi-Auto</td>\n",
       "      <td>880</td>\n",
       "      <td>145</td>\n",
       "      <td>24.8</td>\n",
       "      <td>4.0</td>\n",
       "    </tr>\n",
       "    <tr>\n",
       "      <th>2629</th>\n",
       "      <td>2019</td>\n",
       "      <td>123846</td>\n",
       "      <td>Semi-Auto</td>\n",
       "      <td>2951</td>\n",
       "      <td>145</td>\n",
       "      <td>22.1</td>\n",
       "      <td>4.0</td>\n",
       "    </tr>\n",
       "    <tr>\n",
       "      <th>7134</th>\n",
       "      <td>2019</td>\n",
       "      <td>115359</td>\n",
       "      <td>Semi-Auto</td>\n",
       "      <td>1000</td>\n",
       "      <td>145</td>\n",
       "      <td>30.1</td>\n",
       "      <td>4.0</td>\n",
       "    </tr>\n",
       "    <tr>\n",
       "      <th>9159</th>\n",
       "      <td>2019</td>\n",
       "      <td>114199</td>\n",
       "      <td>Semi-Auto</td>\n",
       "      <td>891</td>\n",
       "      <td>145</td>\n",
       "      <td>22.6</td>\n",
       "      <td>4.0</td>\n",
       "    </tr>\n",
       "    <tr>\n",
       "      <th>1980</th>\n",
       "      <td>2019</td>\n",
       "      <td>109995</td>\n",
       "      <td>Semi-Auto</td>\n",
       "      <td>4688</td>\n",
       "      <td>150</td>\n",
       "      <td>31.7</td>\n",
       "      <td>4.0</td>\n",
       "    </tr>\n",
       "  </tbody>\n",
       "</table>\n",
       "</div>"
      ],
      "text/plain": [
       "       year   price transmission  mileage  tax   mpg  engineSize\n",
       "6199   2020  159999    Semi-Auto     1350  145  21.4         4.0\n",
       "10044  2020  154998    Automatic     3000  150  21.4         4.0\n",
       "5      2011  149948    Automatic     3000  570  21.4         6.2\n",
       "8737   2019  140319    Semi-Auto      785  150  22.1         4.0\n",
       "6386   2018  139995    Semi-Auto    13046  145  21.4         4.0\n",
       "8      2019  139948    Automatic    12000  145  21.4         4.0\n",
       "9133   2019  139559    Semi-Auto     1000  145  22.1         4.0\n",
       "8821   2020  138439    Semi-Auto     1000  145  22.1         4.0\n",
       "5902   2018  135771    Semi-Auto    19000  145  21.4         4.0\n",
       "7864   2018  135124    Semi-Auto    18234  150  21.4         4.0\n",
       "8673   2019  134219    Semi-Auto     1000  145  24.8         4.0\n",
       "6210   2019  129990    Automatic     1000  145  24.8         4.0\n",
       "4759   2019  126000    Automatic      250  145  24.6         4.0\n",
       "2647   2019  125796    Automatic      637  145  24.8         4.0\n",
       "6223   2019  124999    Automatic     1500  145  31.7         4.0\n",
       "4094   2019  124366    Semi-Auto      880  145  24.8         4.0\n",
       "2629   2019  123846    Semi-Auto     2951  145  22.1         4.0\n",
       "7134   2019  115359    Semi-Auto     1000  145  30.1         4.0\n",
       "9159   2019  114199    Semi-Auto      891  145  22.6         4.0\n",
       "1980   2019  109995    Semi-Auto     4688  150  31.7         4.0"
      ]
     },
     "execution_count": 43,
     "metadata": {},
     "output_type": "execute_result"
    }
   ],
   "source": [
    "#en yüksek fiyatlı araba sıralaması\n",
    "df.sort_values(\"price\", ascending = False).head(20)"
   ]
  },
  {
   "cell_type": "markdown",
   "id": "8f37e2b6",
   "metadata": {},
   "source": [
    "#### Data cleansing"
   ]
  },
  {
   "cell_type": "markdown",
   "id": "96219314",
   "metadata": {},
   "source": [
    "* Verinin ana yapısını bozan en yüksek fiyatlı verilerin temizlenmesi. (verisetindeki araçların fiyat ortalaması 24074)\n",
    "* Araç model ortalamasını aşağı çeken modeli düşük arabaların temizlenmesi. (Verisetindeki araçların model ortalaması 2017.)\n",
    "* Kategorik değişkenlerin düşürülmesi."
   ]
  },
  {
   "cell_type": "code",
   "execution_count": 45,
   "id": "da102d72",
   "metadata": {},
   "outputs": [
    {
     "data": {
      "text/plain": [
       "(13119, 7)"
      ]
     },
     "execution_count": 45,
     "metadata": {},
     "output_type": "execute_result"
    }
   ],
   "source": [
    "df.shape"
   ]
  },
  {
   "cell_type": "code",
   "execution_count": 47,
   "id": "f0f1f4bb",
   "metadata": {},
   "outputs": [
    {
     "data": {
      "text/plain": [
       "131.19"
      ]
     },
     "execution_count": 47,
     "metadata": {},
     "output_type": "execute_result"
    }
   ],
   "source": [
    "len(df) * 0.01 # verilerin %1 "
   ]
  },
  {
   "cell_type": "code",
   "execution_count": 49,
   "id": "84bcd721",
   "metadata": {},
   "outputs": [],
   "source": [
    "# SORUN 1 - verinin ana yapısını bozan %1 lik en yüksek fiyatlı verileri temizliyoruz\n",
    "\n",
    "c_df = df.sort_values(\"price\", ascending=False).iloc[131:]"
   ]
  },
  {
   "cell_type": "code",
   "execution_count": 50,
   "id": "cc2dd702",
   "metadata": {
    "scrolled": true
   },
   "outputs": [
    {
     "data": {
      "text/html": [
       "<div>\n",
       "<style scoped>\n",
       "    .dataframe tbody tr th:only-of-type {\n",
       "        vertical-align: middle;\n",
       "    }\n",
       "\n",
       "    .dataframe tbody tr th {\n",
       "        vertical-align: top;\n",
       "    }\n",
       "\n",
       "    .dataframe thead th {\n",
       "        text-align: right;\n",
       "    }\n",
       "</style>\n",
       "<table border=\"1\" class=\"dataframe\">\n",
       "  <thead>\n",
       "    <tr style=\"text-align: right;\">\n",
       "      <th></th>\n",
       "      <th>count</th>\n",
       "      <th>mean</th>\n",
       "      <th>std</th>\n",
       "      <th>min</th>\n",
       "      <th>25%</th>\n",
       "      <th>50%</th>\n",
       "      <th>75%</th>\n",
       "      <th>max</th>\n",
       "    </tr>\n",
       "  </thead>\n",
       "  <tbody>\n",
       "    <tr>\n",
       "      <th>year</th>\n",
       "      <td>12988.0</td>\n",
       "      <td>2017.281876</td>\n",
       "      <td>2.228515</td>\n",
       "      <td>1970.0</td>\n",
       "      <td>2016.000</td>\n",
       "      <td>2018.0</td>\n",
       "      <td>2019.00</td>\n",
       "      <td>2020.0</td>\n",
       "    </tr>\n",
       "    <tr>\n",
       "      <th>price</th>\n",
       "      <td>12988.0</td>\n",
       "      <td>24074.926933</td>\n",
       "      <td>9866.224575</td>\n",
       "      <td>650.0</td>\n",
       "      <td>17357.500</td>\n",
       "      <td>22299.0</td>\n",
       "      <td>28706.00</td>\n",
       "      <td>65990.0</td>\n",
       "    </tr>\n",
       "    <tr>\n",
       "      <th>mileage</th>\n",
       "      <td>12988.0</td>\n",
       "      <td>22132.741146</td>\n",
       "      <td>21196.776401</td>\n",
       "      <td>1.0</td>\n",
       "      <td>6322.000</td>\n",
       "      <td>15369.5</td>\n",
       "      <td>31982.25</td>\n",
       "      <td>259000.0</td>\n",
       "    </tr>\n",
       "    <tr>\n",
       "      <th>tax</th>\n",
       "      <td>12988.0</td>\n",
       "      <td>129.689714</td>\n",
       "      <td>65.183076</td>\n",
       "      <td>0.0</td>\n",
       "      <td>125.000</td>\n",
       "      <td>145.0</td>\n",
       "      <td>145.00</td>\n",
       "      <td>580.0</td>\n",
       "    </tr>\n",
       "    <tr>\n",
       "      <th>mpg</th>\n",
       "      <td>12988.0</td>\n",
       "      <td>55.437142</td>\n",
       "      <td>15.025999</td>\n",
       "      <td>1.1</td>\n",
       "      <td>45.600</td>\n",
       "      <td>56.5</td>\n",
       "      <td>64.20</td>\n",
       "      <td>217.3</td>\n",
       "    </tr>\n",
       "    <tr>\n",
       "      <th>engineSize</th>\n",
       "      <td>12988.0</td>\n",
       "      <td>2.050901</td>\n",
       "      <td>0.532596</td>\n",
       "      <td>0.0</td>\n",
       "      <td>1.675</td>\n",
       "      <td>2.0</td>\n",
       "      <td>2.10</td>\n",
       "      <td>6.2</td>\n",
       "    </tr>\n",
       "  </tbody>\n",
       "</table>\n",
       "</div>"
      ],
      "text/plain": [
       "              count          mean           std     min        25%      50%  \\\n",
       "year        12988.0   2017.281876      2.228515  1970.0   2016.000   2018.0   \n",
       "price       12988.0  24074.926933   9866.224575   650.0  17357.500  22299.0   \n",
       "mileage     12988.0  22132.741146  21196.776401     1.0   6322.000  15369.5   \n",
       "tax         12988.0    129.689714     65.183076     0.0    125.000    145.0   \n",
       "mpg         12988.0     55.437142     15.025999     1.1     45.600     56.5   \n",
       "engineSize  12988.0      2.050901      0.532596     0.0      1.675      2.0   \n",
       "\n",
       "                 75%       max  \n",
       "year         2019.00    2020.0  \n",
       "price       28706.00   65990.0  \n",
       "mileage     31982.25  259000.0  \n",
       "tax           145.00     580.0  \n",
       "mpg            64.20     217.3  \n",
       "engineSize      2.10       6.2  "
      ]
     },
     "execution_count": 50,
     "metadata": {},
     "output_type": "execute_result"
    }
   ],
   "source": [
    "c_df.describe().T"
   ]
  },
  {
   "cell_type": "code",
   "execution_count": 53,
   "id": "06a89032",
   "metadata": {},
   "outputs": [
    {
     "name": "stderr",
     "output_type": "stream",
     "text": [
      "C:\\Users\\kerim\\anaconda3\\envs\\project_1\\lib\\site-packages\\seaborn\\distributions.py:2619: FutureWarning: `distplot` is a deprecated function and will be removed in a future version. Please adapt your code to use either `displot` (a figure-level function with similar flexibility) or `histplot` (an axes-level function for histograms).\n",
      "  warnings.warn(msg, FutureWarning)\n"
     ]
    },
    {
     "data": {
      "text/plain": [
       "<AxesSubplot:xlabel='price', ylabel='Density'>"
      ]
     },
     "execution_count": 53,
     "metadata": {},
     "output_type": "execute_result"
    },
    {
     "data": {
      "image/png": "[encoded data removed]",
      "text/plain": [
       "<Figure size 640x480 with 1 Axes>"
      ]
     },
     "metadata": {},
     "output_type": "display_data"
    }
   ],
   "source": [
    "sns.distplot(c_df.price)"
   ]
  },
  {
   "cell_type": "code",
   "execution_count": 58,
   "id": "f8e59391",
   "metadata": {},
   "outputs": [
    {
     "data": {
      "text/plain": [
       "year\n",
       "1970    24999.000000\n",
       "1997     9995.000000\n",
       "1998     8605.000000\n",
       "1999     5995.000000\n",
       "2000     5743.333333\n",
       "2001     4957.900000\n",
       "2002     5820.444444\n",
       "2003     4878.000000\n",
       "2004     4727.615385\n",
       "2005     4426.111111\n",
       "2006     4036.875000\n",
       "2007     5136.045455\n",
       "2008     6967.437500\n",
       "2009     6166.764706\n",
       "2010     8308.473684\n",
       "2011     8913.459459\n",
       "2012    10845.140351\n",
       "2013    11939.842466\n",
       "2014    14042.936864\n",
       "2015    16647.822222\n",
       "2016    19223.558943\n",
       "2017    21356.280421\n",
       "2018    24800.844506\n",
       "2019    30289.524832\n",
       "2020    34234.794872\n",
       "Name: price, dtype: float64"
      ]
     },
     "execution_count": 58,
     "metadata": {},
     "output_type": "execute_result"
    }
   ],
   "source": [
    "# SORUN 2 - modeli düşük araçların çıkarılması.\n",
    "c_df.groupby(\"year\").mean()[\"price\"]"
   ]
  },
  {
   "cell_type": "code",
   "execution_count": 86,
   "id": "a1e21593",
   "metadata": {},
   "outputs": [],
   "source": [
    "df = c_df\n",
    "df = df[df.year != 1970]"
   ]
  },
  {
   "cell_type": "code",
   "execution_count": 87,
   "id": "1fb687c2",
   "metadata": {},
   "outputs": [
    {
     "data": {
      "text/html": [
       "<div>\n",
       "<style scoped>\n",
       "    .dataframe tbody tr th:only-of-type {\n",
       "        vertical-align: middle;\n",
       "    }\n",
       "\n",
       "    .dataframe tbody tr th {\n",
       "        vertical-align: top;\n",
       "    }\n",
       "\n",
       "    .dataframe thead th {\n",
       "        text-align: right;\n",
       "    }\n",
       "</style>\n",
       "<table border=\"1\" class=\"dataframe\">\n",
       "  <thead>\n",
       "    <tr style=\"text-align: right;\">\n",
       "      <th></th>\n",
       "      <th>count</th>\n",
       "      <th>mean</th>\n",
       "      <th>std</th>\n",
       "      <th>min</th>\n",
       "      <th>25%</th>\n",
       "      <th>50%</th>\n",
       "      <th>75%</th>\n",
       "      <th>max</th>\n",
       "    </tr>\n",
       "  </thead>\n",
       "  <tbody>\n",
       "    <tr>\n",
       "      <th>year</th>\n",
       "      <td>12987.0</td>\n",
       "      <td>2017.285516</td>\n",
       "      <td>2.189633</td>\n",
       "      <td>1997.0</td>\n",
       "      <td>2016.0</td>\n",
       "      <td>2018.0</td>\n",
       "      <td>2019.0</td>\n",
       "      <td>2020.0</td>\n",
       "    </tr>\n",
       "    <tr>\n",
       "      <th>price</th>\n",
       "      <td>12987.0</td>\n",
       "      <td>24074.855779</td>\n",
       "      <td>9866.601115</td>\n",
       "      <td>650.0</td>\n",
       "      <td>17355.0</td>\n",
       "      <td>22299.0</td>\n",
       "      <td>28706.0</td>\n",
       "      <td>65990.0</td>\n",
       "    </tr>\n",
       "    <tr>\n",
       "      <th>mileage</th>\n",
       "      <td>12987.0</td>\n",
       "      <td>22133.367367</td>\n",
       "      <td>21197.472376</td>\n",
       "      <td>1.0</td>\n",
       "      <td>6320.0</td>\n",
       "      <td>15371.0</td>\n",
       "      <td>31986.5</td>\n",
       "      <td>259000.0</td>\n",
       "    </tr>\n",
       "    <tr>\n",
       "      <th>tax</th>\n",
       "      <td>12987.0</td>\n",
       "      <td>129.676215</td>\n",
       "      <td>65.167429</td>\n",
       "      <td>0.0</td>\n",
       "      <td>125.0</td>\n",
       "      <td>145.0</td>\n",
       "      <td>145.0</td>\n",
       "      <td>580.0</td>\n",
       "    </tr>\n",
       "    <tr>\n",
       "      <th>mpg</th>\n",
       "      <td>12987.0</td>\n",
       "      <td>55.438392</td>\n",
       "      <td>15.025902</td>\n",
       "      <td>1.1</td>\n",
       "      <td>45.6</td>\n",
       "      <td>56.5</td>\n",
       "      <td>64.2</td>\n",
       "      <td>217.3</td>\n",
       "    </tr>\n",
       "    <tr>\n",
       "      <th>engineSize</th>\n",
       "      <td>12987.0</td>\n",
       "      <td>2.051059</td>\n",
       "      <td>0.532313</td>\n",
       "      <td>0.0</td>\n",
       "      <td>1.7</td>\n",
       "      <td>2.0</td>\n",
       "      <td>2.1</td>\n",
       "      <td>6.2</td>\n",
       "    </tr>\n",
       "  </tbody>\n",
       "</table>\n",
       "</div>"
      ],
      "text/plain": [
       "              count          mean           std     min      25%      50%  \\\n",
       "year        12987.0   2017.285516      2.189633  1997.0   2016.0   2018.0   \n",
       "price       12987.0  24074.855779   9866.601115   650.0  17355.0  22299.0   \n",
       "mileage     12987.0  22133.367367  21197.472376     1.0   6320.0  15371.0   \n",
       "tax         12987.0    129.676215     65.167429     0.0    125.0    145.0   \n",
       "mpg         12987.0     55.438392     15.025902     1.1     45.6     56.5   \n",
       "engineSize  12987.0      2.051059      0.532313     0.0      1.7      2.0   \n",
       "\n",
       "                75%       max  \n",
       "year         2019.0    2020.0  \n",
       "price       28706.0   65990.0  \n",
       "mileage     31986.5  259000.0  \n",
       "tax           145.0     580.0  \n",
       "mpg            64.2     217.3  \n",
       "engineSize      2.1       6.2  "
      ]
     },
     "execution_count": 87,
     "metadata": {},
     "output_type": "execute_result"
    }
   ],
   "source": [
    "df.describe().T"
   ]
  },
  {
   "cell_type": "code",
   "execution_count": 89,
   "id": "2fa223e5",
   "metadata": {},
   "outputs": [],
   "source": [
    "#SORUN 3 - kategorik değişkenin düşürülmesi\n",
    "df = df.drop(\"transmission\", axis=1)"
   ]
  },
  {
   "cell_type": "markdown",
   "id": "04ae3134",
   "metadata": {},
   "source": [
    "### Creating a model\n"
   ]
  },
  {
   "cell_type": "code",
   "execution_count": 92,
   "id": "31733974",
   "metadata": {},
   "outputs": [],
   "source": [
    "y = df[\"price\"].values\n",
    "x = df.drop(\"price\", axis=1).values"
   ]
  },
  {
   "cell_type": "code",
   "execution_count": 93,
   "id": "d68c8b19",
   "metadata": {},
   "outputs": [
    {
     "data": {
      "text/plain": [
       "array([[2.01900e+03, 5.07600e+03, 1.50000e+02, 3.04000e+01, 3.00000e+00],\n",
       "       [2.02000e+03, 9.99000e+02, 1.45000e+02, 2.80000e+01, 4.00000e+00],\n",
       "       [2.02000e+03, 3.99900e+03, 1.45000e+02, 2.80000e+01, 4.00000e+00],\n",
       "       ...,\n",
       "       [2.00000e+03, 8.70000e+04, 2.65000e+02, 2.72000e+01, 3.20000e+00],\n",
       "       [2.01000e+03, 1.16126e+05, 1.45000e+02, 5.43000e+01, 2.00000e+00],\n",
       "       [2.00300e+03, 1.09090e+05, 2.35000e+02, 4.00000e+01, 1.40000e+00]])"
      ]
     },
     "execution_count": 93,
     "metadata": {},
     "output_type": "execute_result"
    }
   ],
   "source": [
    "x"
   ]
  },
  {
   "cell_type": "code",
   "execution_count": 94,
   "id": "fbc4743e",
   "metadata": {},
   "outputs": [
    {
     "data": {
      "text/plain": [
       "array([65990, 65990, 65980, ...,  1490,  1350,   650], dtype=int64)"
      ]
     },
     "execution_count": 94,
     "metadata": {},
     "output_type": "execute_result"
    }
   ],
   "source": [
    "y"
   ]
  },
  {
   "cell_type": "code",
   "execution_count": 95,
   "id": "1675572b",
   "metadata": {},
   "outputs": [],
   "source": [
    "from sklearn.model_selection import train_test_split"
   ]
  },
  {
   "cell_type": "code",
   "execution_count": 96,
   "id": "6e89373a",
   "metadata": {},
   "outputs": [],
   "source": [
    "X_train, X_test, y_train, y_test = train_test_split(x, y, test_size = 0.3, random_state = 42)\n",
    "#test_size -> verinin %30'unun teste ayrılması\n",
    "# random_state -> rastgele verilerle çalışırken bir sonraki işlemlerde de aynı verilerle çalışmak için."
   ]
  },
  {
   "cell_type": "code",
   "execution_count": 98,
   "id": "35c0d4b8",
   "metadata": {},
   "outputs": [
    {
     "data": {
      "text/plain": [
       "(9090, 5)"
      ]
     },
     "execution_count": 98,
     "metadata": {},
     "output_type": "execute_result"
    }
   ],
   "source": [
    "X_train.shape"
   ]
  },
  {
   "cell_type": "code",
   "execution_count": 99,
   "id": "c5b228ea",
   "metadata": {},
   "outputs": [
    {
     "data": {
      "text/plain": [
       "(3897, 5)"
      ]
     },
     "execution_count": 99,
     "metadata": {},
     "output_type": "execute_result"
    }
   ],
   "source": [
    "X_test.shape"
   ]
  },
  {
   "cell_type": "code",
   "execution_count": 100,
   "id": "83d05c77",
   "metadata": {},
   "outputs": [],
   "source": [
    "from sklearn.preprocessing import MinMaxScaler"
   ]
  },
  {
   "cell_type": "code",
   "execution_count": 101,
   "id": "a0b0bbc0",
   "metadata": {},
   "outputs": [],
   "source": [
    "scaler = MinMaxScaler()\n"
   ]
  },
  {
   "cell_type": "code",
   "execution_count": 102,
   "id": "8173b770",
   "metadata": {},
   "outputs": [],
   "source": [
    "X_train = scaler.fit_transform(X_train)"
   ]
  },
  {
   "cell_type": "code",
   "execution_count": 103,
   "id": "22002847",
   "metadata": {},
   "outputs": [],
   "source": [
    "X_test = scaler.transform(X_test)"
   ]
  },
  {
   "cell_type": "code",
   "execution_count": 105,
   "id": "f6ef1263",
   "metadata": {},
   "outputs": [],
   "source": [
    "from tensorflow.keras.models import Sequential\n",
    "from tensorflow.keras.layers import Dense"
   ]
  },
  {
   "cell_type": "code",
   "execution_count": 108,
   "id": "3cc4d10a",
   "metadata": {},
   "outputs": [],
   "source": [
    "model = Sequential()\n",
    "\n",
    "model.add(Dense(12, activation = \"relu\"))\n",
    "model.add(Dense(12, activation = \"relu\"))\n",
    "model.add(Dense(12, activation = \"relu\"))\n",
    "model.add(Dense(12, activation = \"relu\"))\n",
    "\n",
    "model.add(Dense(1))\n",
    "\n",
    "model.compile(optimizer=\"adam\", loss=\"mse\")"
   ]
  },
  {
   "cell_type": "markdown",
   "id": "b7e5fa3d",
   "metadata": {},
   "source": [
    "### Model Training"
   ]
  },
  {
   "cell_type": "code",
   "execution_count": 110,
   "id": "9b779824",
   "metadata": {},
   "outputs": [
    {
     "name": "stdout",
     "output_type": "stream",
     "text": [
      "Epoch 1/300\n",
      "37/37 [==============================] - 2s 16ms/step - loss: 674377472.0000 - val_loss: 682883456.0000\n",
      "Epoch 2/300\n",
      "37/37 [==============================] - 0s 5ms/step - loss: 674346752.0000 - val_loss: 682829312.0000\n",
      "Epoch 3/300\n",
      "37/37 [==============================] - 0s 5ms/step - loss: 674244992.0000 - val_loss: 682651264.0000\n",
      "Epoch 4/300\n",
      "37/37 [==============================] - 0s 5ms/step - loss: 673932160.0000 - val_loss: 682131584.0000\n",
      "Epoch 5/300\n",
      "37/37 [==============================] - 0s 5ms/step - loss: 673091392.0000 - val_loss: 680818560.0000\n",
      "Epoch 6/300\n",
      "37/37 [==============================] - 0s 5ms/step - loss: 671094208.0000 - val_loss: 677843328.0000\n",
      "Epoch 7/300\n",
      "37/37 [==============================] - 0s 6ms/step - loss: 666847168.0000 - val_loss: 671881984.0000\n",
      "Epoch 8/300\n",
      "37/37 [==============================] - 0s 7ms/step - loss: 658807040.0000 - val_loss: 661073472.0000\n",
      "Epoch 9/300\n",
      "37/37 [==============================] - 0s 6ms/step - loss: 644895040.0000 - val_loss: 643105088.0000\n",
      "Epoch 10/300\n",
      "37/37 [==============================] - 0s 5ms/step - loss: 622650624.0000 - val_loss: 615339712.0000\n",
      "Epoch 11/300\n",
      "37/37 [==============================] - 0s 7ms/step - loss: 589357184.0000 - val_loss: 575266560.0000\n",
      "Epoch 12/300\n",
      "37/37 [==============================] - 0s 5ms/step - loss: 543009024.0000 - val_loss: 520850656.0000\n",
      "Epoch 13/300\n",
      "37/37 [==============================] - 0s 5ms/step - loss: 481699264.0000 - val_loss: 451085888.0000\n",
      "Epoch 14/300\n",
      "37/37 [==============================] - 0s 5ms/step - loss: 406103008.0000 - val_loss: 368793824.0000\n",
      "Epoch 15/300\n",
      "37/37 [==============================] - 0s 6ms/step - loss: 321668000.0000 - val_loss: 282161376.0000\n",
      "Epoch 16/300\n",
      "37/37 [==============================] - 0s 6ms/step - loss: 238563600.0000 - val_loss: 203270912.0000\n",
      "Epoch 17/300\n",
      "37/37 [==============================] - 0s 6ms/step - loss: 169067184.0000 - val_loss: 144005440.0000\n",
      "Epoch 18/300\n",
      "37/37 [==============================] - 0s 5ms/step - loss: 122312136.0000 - val_loss: 109201888.0000\n",
      "Epoch 19/300\n",
      "37/37 [==============================] - 0s 5ms/step - loss: 98267632.0000 - val_loss: 94042640.0000\n",
      "Epoch 20/300\n",
      "37/37 [==============================] - 0s 7ms/step - loss: 89228608.0000 - val_loss: 89514328.0000\n",
      "Epoch 21/300\n",
      "37/37 [==============================] - 0s 5ms/step - loss: 86789560.0000 - val_loss: 88131248.0000\n",
      "Epoch 22/300\n",
      "37/37 [==============================] - 0s 4ms/step - loss: 85918176.0000 - val_loss: 87523304.0000\n",
      "Epoch 23/300\n",
      "37/37 [==============================] - 0s 4ms/step - loss: 85353176.0000 - val_loss: 86979808.0000\n",
      "Epoch 24/300\n",
      "37/37 [==============================] - 0s 5ms/step - loss: 84836072.0000 - val_loss: 86490048.0000\n",
      "Epoch 25/300\n",
      "37/37 [==============================] - 0s 6ms/step - loss: 84347032.0000 - val_loss: 86020944.0000\n",
      "Epoch 26/300\n",
      "37/37 [==============================] - 0s 5ms/step - loss: 83868968.0000 - val_loss: 85563624.0000\n",
      "Epoch 27/300\n",
      "37/37 [==============================] - 0s 5ms/step - loss: 83412960.0000 - val_loss: 85123360.0000\n",
      "Epoch 28/300\n",
      "37/37 [==============================] - 0s 5ms/step - loss: 82960024.0000 - val_loss: 84689408.0000\n",
      "Epoch 29/300\n",
      "37/37 [==============================] - 0s 4ms/step - loss: 82512688.0000 - val_loss: 84270208.0000\n",
      "Epoch 30/300\n",
      "37/37 [==============================] - 0s 5ms/step - loss: 82082768.0000 - val_loss: 83853136.0000\n",
      "Epoch 31/300\n",
      "37/37 [==============================] - 0s 4ms/step - loss: 81648912.0000 - val_loss: 83443184.0000\n",
      "Epoch 32/300\n",
      "37/37 [==============================] - 0s 5ms/step - loss: 81225560.0000 - val_loss: 83035792.0000\n",
      "Epoch 33/300\n",
      "37/37 [==============================] - 0s 5ms/step - loss: 80807880.0000 - val_loss: 82620344.0000\n",
      "Epoch 34/300\n",
      "37/37 [==============================] - 0s 5ms/step - loss: 80395360.0000 - val_loss: 82242320.0000\n",
      "Epoch 35/300\n",
      "37/37 [==============================] - 0s 4ms/step - loss: 79972992.0000 - val_loss: 81831080.0000\n",
      "Epoch 36/300\n",
      "37/37 [==============================] - 0s 5ms/step - loss: 79555056.0000 - val_loss: 81443152.0000\n",
      "Epoch 37/300\n",
      "37/37 [==============================] - 0s 5ms/step - loss: 79147160.0000 - val_loss: 81043696.0000\n",
      "Epoch 38/300\n",
      "37/37 [==============================] - 0s 5ms/step - loss: 78740160.0000 - val_loss: 80660528.0000\n",
      "Epoch 39/300\n",
      "37/37 [==============================] - 0s 4ms/step - loss: 78323264.0000 - val_loss: 80258408.0000\n",
      "Epoch 40/300\n",
      "37/37 [==============================] - 0s 5ms/step - loss: 77917928.0000 - val_loss: 79871480.0000\n",
      "Epoch 41/300\n",
      "37/37 [==============================] - 0s 5ms/step - loss: 77510120.0000 - val_loss: 79481800.0000\n",
      "Epoch 42/300\n",
      "37/37 [==============================] - 0s 5ms/step - loss: 77110352.0000 - val_loss: 79102712.0000\n",
      "Epoch 43/300\n",
      "37/37 [==============================] - 0s 8ms/step - loss: 76698288.0000 - val_loss: 78712400.0000\n",
      "Epoch 44/300\n",
      "37/37 [==============================] - 0s 7ms/step - loss: 76286072.0000 - val_loss: 78317824.0000\n",
      "Epoch 45/300\n",
      "37/37 [==============================] - 0s 6ms/step - loss: 75873928.0000 - val_loss: 77931088.0000\n",
      "Epoch 46/300\n",
      "37/37 [==============================] - 0s 7ms/step - loss: 75467440.0000 - val_loss: 77536424.0000\n",
      "Epoch 47/300\n",
      "37/37 [==============================] - 0s 9ms/step - loss: 75064416.0000 - val_loss: 77150064.0000\n",
      "Epoch 48/300\n",
      "37/37 [==============================] - 0s 6ms/step - loss: 74659032.0000 - val_loss: 76762088.0000\n",
      "Epoch 49/300\n",
      "37/37 [==============================] - 0s 5ms/step - loss: 74230712.0000 - val_loss: 76360480.0000\n",
      "Epoch 50/300\n",
      "37/37 [==============================] - 0s 5ms/step - loss: 73826616.0000 - val_loss: 75968952.0000\n",
      "Epoch 51/300\n",
      "37/37 [==============================] - 0s 5ms/step - loss: 73407360.0000 - val_loss: 75576640.0000\n",
      "Epoch 52/300\n",
      "37/37 [==============================] - 0s 5ms/step - loss: 72982224.0000 - val_loss: 75179936.0000\n",
      "Epoch 53/300\n",
      "37/37 [==============================] - 0s 5ms/step - loss: 72569528.0000 - val_loss: 74788400.0000\n",
      "Epoch 54/300\n",
      "37/37 [==============================] - 0s 5ms/step - loss: 72152152.0000 - val_loss: 74384400.0000\n",
      "Epoch 55/300\n",
      "37/37 [==============================] - 0s 5ms/step - loss: 71729200.0000 - val_loss: 73982800.0000\n",
      "Epoch 56/300\n",
      "37/37 [==============================] - 0s 5ms/step - loss: 71299672.0000 - val_loss: 73584680.0000\n",
      "Epoch 57/300\n",
      "37/37 [==============================] - 0s 6ms/step - loss: 70879728.0000 - val_loss: 73177240.0000\n",
      "Epoch 58/300\n",
      "37/37 [==============================] - 0s 5ms/step - loss: 70444000.0000 - val_loss: 72777424.0000\n",
      "Epoch 59/300\n",
      "37/37 [==============================] - 0s 5ms/step - loss: 70027152.0000 - val_loss: 72365800.0000\n",
      "Epoch 60/300\n",
      "37/37 [==============================] - 0s 5ms/step - loss: 69577976.0000 - val_loss: 71950296.0000\n",
      "Epoch 61/300\n",
      "37/37 [==============================] - 0s 5ms/step - loss: 69143664.0000 - val_loss: 71525312.0000\n",
      "Epoch 62/300\n",
      "37/37 [==============================] - 0s 6ms/step - loss: 68698320.0000 - val_loss: 71119136.0000\n",
      "Epoch 63/300\n",
      "37/37 [==============================] - 0s 5ms/step - loss: 68255880.0000 - val_loss: 70686864.0000\n",
      "Epoch 64/300\n",
      "37/37 [==============================] - 0s 5ms/step - loss: 67807008.0000 - val_loss: 70265680.0000\n",
      "Epoch 65/300\n",
      "37/37 [==============================] - 0s 5ms/step - loss: 67349272.0000 - val_loss: 69849768.0000\n",
      "Epoch 66/300\n",
      "37/37 [==============================] - 0s 5ms/step - loss: 66895920.0000 - val_loss: 69403064.0000\n",
      "Epoch 67/300\n",
      "37/37 [==============================] - 0s 5ms/step - loss: 66440520.0000 - val_loss: 68962192.0000\n",
      "Epoch 68/300\n",
      "37/37 [==============================] - 0s 5ms/step - loss: 65962624.0000 - val_loss: 68530560.0000\n",
      "Epoch 69/300\n",
      "37/37 [==============================] - 0s 6ms/step - loss: 65496708.0000 - val_loss: 68084896.0000\n",
      "Epoch 70/300\n",
      "37/37 [==============================] - 0s 5ms/step - loss: 65022100.0000 - val_loss: 67630920.0000\n",
      "Epoch 71/300\n",
      "37/37 [==============================] - 0s 4ms/step - loss: 64565208.0000 - val_loss: 67175360.0000\n",
      "Epoch 72/300\n"
     ]
    },
    {
     "name": "stdout",
     "output_type": "stream",
     "text": [
      "37/37 [==============================] - 0s 2ms/step - loss: 64075528.0000 - val_loss: 66718316.0000\n",
      "Epoch 73/300\n",
      "37/37 [==============================] - 0s 2ms/step - loss: 63569220.0000 - val_loss: 66251436.0000\n",
      "Epoch 74/300\n",
      "37/37 [==============================] - 0s 2ms/step - loss: 63066628.0000 - val_loss: 65792484.0000\n",
      "Epoch 75/300\n",
      "37/37 [==============================] - 0s 2ms/step - loss: 62572448.0000 - val_loss: 65311464.0000\n",
      "Epoch 76/300\n",
      "37/37 [==============================] - 0s 2ms/step - loss: 62093644.0000 - val_loss: 64822552.0000\n",
      "Epoch 77/300\n",
      "37/37 [==============================] - 0s 2ms/step - loss: 61567596.0000 - val_loss: 64336568.0000\n",
      "Epoch 78/300\n",
      "37/37 [==============================] - 0s 2ms/step - loss: 61024432.0000 - val_loss: 63846212.0000\n",
      "Epoch 79/300\n",
      "37/37 [==============================] - 0s 2ms/step - loss: 60496504.0000 - val_loss: 63334256.0000\n",
      "Epoch 80/300\n",
      "37/37 [==============================] - 0s 2ms/step - loss: 59967940.0000 - val_loss: 62823492.0000\n",
      "Epoch 81/300\n",
      "37/37 [==============================] - 0s 2ms/step - loss: 59418920.0000 - val_loss: 62316604.0000\n",
      "Epoch 82/300\n",
      "37/37 [==============================] - 0s 2ms/step - loss: 58867840.0000 - val_loss: 61787192.0000\n",
      "Epoch 83/300\n",
      "37/37 [==============================] - 0s 2ms/step - loss: 58304808.0000 - val_loss: 61263308.0000\n",
      "Epoch 84/300\n",
      "37/37 [==============================] - 0s 2ms/step - loss: 57781388.0000 - val_loss: 60740380.0000\n",
      "Epoch 85/300\n",
      "37/37 [==============================] - 0s 2ms/step - loss: 57151852.0000 - val_loss: 60168204.0000\n",
      "Epoch 86/300\n",
      "37/37 [==============================] - 0s 2ms/step - loss: 56577408.0000 - val_loss: 59605932.0000\n",
      "Epoch 87/300\n",
      "37/37 [==============================] - 0s 2ms/step - loss: 55978220.0000 - val_loss: 59045456.0000\n",
      "Epoch 88/300\n",
      "37/37 [==============================] - 0s 2ms/step - loss: 55379188.0000 - val_loss: 58464176.0000\n",
      "Epoch 89/300\n",
      "37/37 [==============================] - 0s 2ms/step - loss: 54763764.0000 - val_loss: 57877464.0000\n",
      "Epoch 90/300\n",
      "37/37 [==============================] - 0s 2ms/step - loss: 54133144.0000 - val_loss: 57287576.0000\n",
      "Epoch 91/300\n",
      "37/37 [==============================] - 0s 2ms/step - loss: 53506996.0000 - val_loss: 56682344.0000\n",
      "Epoch 92/300\n",
      "37/37 [==============================] - 0s 2ms/step - loss: 52891476.0000 - val_loss: 56054668.0000\n",
      "Epoch 93/300\n",
      "37/37 [==============================] - 0s 2ms/step - loss: 52206480.0000 - val_loss: 55453884.0000\n",
      "Epoch 94/300\n",
      "37/37 [==============================] - 0s 2ms/step - loss: 51542412.0000 - val_loss: 54805676.0000\n",
      "Epoch 95/300\n",
      "37/37 [==============================] - 0s 2ms/step - loss: 50877500.0000 - val_loss: 54169236.0000\n",
      "Epoch 96/300\n",
      "37/37 [==============================] - 0s 2ms/step - loss: 50177652.0000 - val_loss: 53505116.0000\n",
      "Epoch 97/300\n",
      "37/37 [==============================] - 0s 2ms/step - loss: 49490192.0000 - val_loss: 52854720.0000\n",
      "Epoch 98/300\n",
      "37/37 [==============================] - 0s 2ms/step - loss: 48773396.0000 - val_loss: 52156768.0000\n",
      "Epoch 99/300\n",
      "37/37 [==============================] - 0s 2ms/step - loss: 48073952.0000 - val_loss: 51476336.0000\n",
      "Epoch 100/300\n",
      "37/37 [==============================] - 0s 2ms/step - loss: 47337404.0000 - val_loss: 50767540.0000\n",
      "Epoch 101/300\n",
      "37/37 [==============================] - 0s 2ms/step - loss: 46610296.0000 - val_loss: 50066136.0000\n",
      "Epoch 102/300\n",
      "37/37 [==============================] - 0s 2ms/step - loss: 45886288.0000 - val_loss: 49355124.0000\n",
      "Epoch 103/300\n",
      "37/37 [==============================] - 0s 2ms/step - loss: 45137256.0000 - val_loss: 48635312.0000\n",
      "Epoch 104/300\n",
      "37/37 [==============================] - 0s 2ms/step - loss: 44401488.0000 - val_loss: 47916360.0000\n",
      "Epoch 105/300\n",
      "37/37 [==============================] - 0s 2ms/step - loss: 43645020.0000 - val_loss: 47192176.0000\n",
      "Epoch 106/300\n",
      "37/37 [==============================] - 0s 2ms/step - loss: 42902348.0000 - val_loss: 46463124.0000\n",
      "Epoch 107/300\n",
      "37/37 [==============================] - 0s 2ms/step - loss: 42153932.0000 - val_loss: 45734120.0000\n",
      "Epoch 108/300\n",
      "37/37 [==============================] - 0s 2ms/step - loss: 41427944.0000 - val_loss: 45006680.0000\n",
      "Epoch 109/300\n",
      "37/37 [==============================] - 0s 2ms/step - loss: 40676440.0000 - val_loss: 44302648.0000\n",
      "Epoch 110/300\n",
      "37/37 [==============================] - 0s 2ms/step - loss: 39974212.0000 - val_loss: 43636988.0000\n",
      "Epoch 111/300\n",
      "37/37 [==============================] - 0s 2ms/step - loss: 39247048.0000 - val_loss: 42883448.0000\n",
      "Epoch 112/300\n",
      "37/37 [==============================] - 0s 2ms/step - loss: 38538604.0000 - val_loss: 42200852.0000\n",
      "Epoch 113/300\n",
      "37/37 [==============================] - 0s 2ms/step - loss: 37869496.0000 - val_loss: 41532468.0000\n",
      "Epoch 114/300\n",
      "37/37 [==============================] - 0s 2ms/step - loss: 37203492.0000 - val_loss: 40893252.0000\n",
      "Epoch 115/300\n",
      "37/37 [==============================] - 0s 2ms/step - loss: 36564268.0000 - val_loss: 40265056.0000\n",
      "Epoch 116/300\n",
      "37/37 [==============================] - 0s 2ms/step - loss: 35947400.0000 - val_loss: 39644496.0000\n",
      "Epoch 117/300\n",
      "37/37 [==============================] - 0s 2ms/step - loss: 35358756.0000 - val_loss: 39045432.0000\n",
      "Epoch 118/300\n",
      "37/37 [==============================] - 0s 2ms/step - loss: 34796828.0000 - val_loss: 38485208.0000\n",
      "Epoch 119/300\n",
      "37/37 [==============================] - 0s 2ms/step - loss: 34250500.0000 - val_loss: 37940016.0000\n",
      "Epoch 120/300\n",
      "37/37 [==============================] - 0s 2ms/step - loss: 33743944.0000 - val_loss: 37419792.0000\n",
      "Epoch 121/300\n",
      "37/37 [==============================] - 0s 2ms/step - loss: 33223706.0000 - val_loss: 36928032.0000\n",
      "Epoch 122/300\n",
      "37/37 [==============================] - 0s 2ms/step - loss: 32753120.0000 - val_loss: 36434716.0000\n",
      "Epoch 123/300\n",
      "37/37 [==============================] - 0s 2ms/step - loss: 32310170.0000 - val_loss: 35966888.0000\n",
      "Epoch 124/300\n",
      "37/37 [==============================] - 0s 2ms/step - loss: 31865928.0000 - val_loss: 35524268.0000\n",
      "Epoch 125/300\n",
      "37/37 [==============================] - 0s 2ms/step - loss: 31437940.0000 - val_loss: 35070728.0000\n",
      "Epoch 126/300\n",
      "37/37 [==============================] - 0s 2ms/step - loss: 31000864.0000 - val_loss: 34686456.0000\n",
      "Epoch 127/300\n",
      "37/37 [==============================] - 0s 2ms/step - loss: 30607514.0000 - val_loss: 34223464.0000\n",
      "Epoch 128/300\n",
      "37/37 [==============================] - 0s 2ms/step - loss: 30194974.0000 - val_loss: 33820528.0000\n",
      "Epoch 129/300\n",
      "37/37 [==============================] - 0s 2ms/step - loss: 29826904.0000 - val_loss: 33421180.0000\n",
      "Epoch 130/300\n",
      "37/37 [==============================] - 0s 2ms/step - loss: 29467756.0000 - val_loss: 33026864.0000\n",
      "Epoch 131/300\n",
      "37/37 [==============================] - 0s 2ms/step - loss: 29115972.0000 - val_loss: 32668840.0000\n",
      "Epoch 132/300\n",
      "37/37 [==============================] - 0s 2ms/step - loss: 28807338.0000 - val_loss: 32382224.0000\n",
      "Epoch 133/300\n",
      "37/37 [==============================] - 0s 2ms/step - loss: 28497582.0000 - val_loss: 32005618.0000\n",
      "Epoch 134/300\n",
      "37/37 [==============================] - 0s 2ms/step - loss: 28180552.0000 - val_loss: 31657922.0000\n",
      "Epoch 135/300\n",
      "37/37 [==============================] - 0s 2ms/step - loss: 27871292.0000 - val_loss: 31313826.0000\n",
      "Epoch 136/300\n",
      "37/37 [==============================] - 0s 2ms/step - loss: 27584646.0000 - val_loss: 30998562.0000\n",
      "Epoch 137/300\n",
      "37/37 [==============================] - 0s 2ms/step - loss: 27275442.0000 - val_loss: 30683130.0000\n",
      "Epoch 138/300\n",
      "37/37 [==============================] - 0s 2ms/step - loss: 26990612.0000 - val_loss: 30362882.0000\n",
      "Epoch 139/300\n",
      "37/37 [==============================] - 0s 2ms/step - loss: 26698410.0000 - val_loss: 30062102.0000\n",
      "Epoch 140/300\n",
      "37/37 [==============================] - 0s 2ms/step - loss: 26394288.0000 - val_loss: 29766326.0000\n",
      "Epoch 141/300\n",
      "37/37 [==============================] - 0s 2ms/step - loss: 26129770.0000 - val_loss: 29480676.0000\n",
      "Epoch 142/300\n",
      "37/37 [==============================] - 0s 2ms/step - loss: 25893668.0000 - val_loss: 29301870.0000\n",
      "Epoch 143/300\n"
     ]
    },
    {
     "name": "stdout",
     "output_type": "stream",
     "text": [
      "37/37 [==============================] - 0s 2ms/step - loss: 25666302.0000 - val_loss: 28946376.0000\n",
      "Epoch 144/300\n",
      "37/37 [==============================] - 0s 2ms/step - loss: 25425556.0000 - val_loss: 28737982.0000\n",
      "Epoch 145/300\n",
      "37/37 [==============================] - 0s 2ms/step - loss: 25196708.0000 - val_loss: 28481366.0000\n",
      "Epoch 146/300\n",
      "37/37 [==============================] - 0s 2ms/step - loss: 25009784.0000 - val_loss: 28345800.0000\n",
      "Epoch 147/300\n",
      "37/37 [==============================] - 0s 2ms/step - loss: 24781556.0000 - val_loss: 28076742.0000\n",
      "Epoch 148/300\n",
      "37/37 [==============================] - 0s 2ms/step - loss: 24612092.0000 - val_loss: 27852562.0000\n",
      "Epoch 149/300\n",
      "37/37 [==============================] - 0s 2ms/step - loss: 24417722.0000 - val_loss: 27738366.0000\n",
      "Epoch 150/300\n",
      "37/37 [==============================] - 0s 2ms/step - loss: 24214210.0000 - val_loss: 27423030.0000\n",
      "Epoch 151/300\n",
      "37/37 [==============================] - 0s 2ms/step - loss: 23994018.0000 - val_loss: 27286340.0000\n",
      "Epoch 152/300\n",
      "37/37 [==============================] - 0s 2ms/step - loss: 23809094.0000 - val_loss: 26947556.0000\n",
      "Epoch 153/300\n",
      "37/37 [==============================] - 0s 2ms/step - loss: 23604522.0000 - val_loss: 26775010.0000\n",
      "Epoch 154/300\n",
      "37/37 [==============================] - 0s 2ms/step - loss: 23422318.0000 - val_loss: 26551976.0000\n",
      "Epoch 155/300\n",
      "37/37 [==============================] - 0s 2ms/step - loss: 23260698.0000 - val_loss: 26410958.0000\n",
      "Epoch 156/300\n",
      "37/37 [==============================] - 0s 2ms/step - loss: 23085828.0000 - val_loss: 26209180.0000\n",
      "Epoch 157/300\n",
      "37/37 [==============================] - 0s 2ms/step - loss: 22946308.0000 - val_loss: 26019052.0000\n",
      "Epoch 158/300\n",
      "37/37 [==============================] - 0s 2ms/step - loss: 22802432.0000 - val_loss: 25860958.0000\n",
      "Epoch 159/300\n",
      "37/37 [==============================] - 0s 2ms/step - loss: 22691022.0000 - val_loss: 25779568.0000\n",
      "Epoch 160/300\n",
      "37/37 [==============================] - 0s 2ms/step - loss: 22549822.0000 - val_loss: 25621912.0000\n",
      "Epoch 161/300\n",
      "37/37 [==============================] - 0s 2ms/step - loss: 22431260.0000 - val_loss: 25547724.0000\n",
      "Epoch 162/300\n",
      "37/37 [==============================] - 0s 2ms/step - loss: 22331054.0000 - val_loss: 25444492.0000\n",
      "Epoch 163/300\n",
      "37/37 [==============================] - 0s 2ms/step - loss: 22218568.0000 - val_loss: 25236628.0000\n",
      "Epoch 164/300\n",
      "37/37 [==============================] - 0s 2ms/step - loss: 22136964.0000 - val_loss: 25236242.0000\n",
      "Epoch 165/300\n",
      "37/37 [==============================] - 0s 2ms/step - loss: 22044176.0000 - val_loss: 25043688.0000\n",
      "Epoch 166/300\n",
      "37/37 [==============================] - 0s 2ms/step - loss: 21967056.0000 - val_loss: 24948738.0000\n",
      "Epoch 167/300\n",
      "37/37 [==============================] - 0s 2ms/step - loss: 21878794.0000 - val_loss: 24865820.0000\n",
      "Epoch 168/300\n",
      "37/37 [==============================] - 0s 2ms/step - loss: 21809064.0000 - val_loss: 24782804.0000\n",
      "Epoch 169/300\n",
      "37/37 [==============================] - 0s 2ms/step - loss: 21749492.0000 - val_loss: 24659122.0000\n",
      "Epoch 170/300\n",
      "37/37 [==============================] - 0s 2ms/step - loss: 21706944.0000 - val_loss: 24647432.0000\n",
      "Epoch 171/300\n",
      "37/37 [==============================] - 0s 2ms/step - loss: 21714320.0000 - val_loss: 24693620.0000\n",
      "Epoch 172/300\n",
      "37/37 [==============================] - 0s 2ms/step - loss: 21582522.0000 - val_loss: 24582396.0000\n",
      "Epoch 173/300\n",
      "37/37 [==============================] - 0s 2ms/step - loss: 21531180.0000 - val_loss: 24472904.0000\n",
      "Epoch 174/300\n",
      "37/37 [==============================] - 0s 2ms/step - loss: 21481494.0000 - val_loss: 24381726.0000\n",
      "Epoch 175/300\n",
      "37/37 [==============================] - 0s 2ms/step - loss: 21436824.0000 - val_loss: 24364036.0000\n",
      "Epoch 176/300\n",
      "37/37 [==============================] - 0s 2ms/step - loss: 21410254.0000 - val_loss: 24253436.0000\n",
      "Epoch 177/300\n",
      "37/37 [==============================] - 0s 2ms/step - loss: 21360310.0000 - val_loss: 24213906.0000\n",
      "Epoch 178/300\n",
      "37/37 [==============================] - 0s 2ms/step - loss: 21339784.0000 - val_loss: 24114632.0000\n",
      "Epoch 179/300\n",
      "37/37 [==============================] - 0s 2ms/step - loss: 21262064.0000 - val_loss: 24092378.0000\n",
      "Epoch 180/300\n",
      "37/37 [==============================] - 0s 2ms/step - loss: 21227310.0000 - val_loss: 24100904.0000\n",
      "Epoch 181/300\n",
      "37/37 [==============================] - 0s 2ms/step - loss: 21220740.0000 - val_loss: 24041462.0000\n",
      "Epoch 182/300\n",
      "37/37 [==============================] - 0s 2ms/step - loss: 21150882.0000 - val_loss: 24159158.0000\n",
      "Epoch 183/300\n",
      "37/37 [==============================] - 0s 2ms/step - loss: 21157154.0000 - val_loss: 24027658.0000\n",
      "Epoch 184/300\n",
      "37/37 [==============================] - 0s 2ms/step - loss: 21100870.0000 - val_loss: 23849560.0000\n",
      "Epoch 185/300\n",
      "37/37 [==============================] - 0s 2ms/step - loss: 21092594.0000 - val_loss: 23815286.0000\n",
      "Epoch 186/300\n",
      "37/37 [==============================] - 0s 2ms/step - loss: 21087050.0000 - val_loss: 23711654.0000\n",
      "Epoch 187/300\n",
      "37/37 [==============================] - 0s 2ms/step - loss: 21012726.0000 - val_loss: 23730300.0000\n",
      "Epoch 188/300\n",
      "37/37 [==============================] - 0s 2ms/step - loss: 20974430.0000 - val_loss: 23671238.0000\n",
      "Epoch 189/300\n",
      "37/37 [==============================] - 0s 2ms/step - loss: 20981288.0000 - val_loss: 23597812.0000\n",
      "Epoch 190/300\n",
      "37/37 [==============================] - 0s 2ms/step - loss: 20955246.0000 - val_loss: 23570324.0000\n",
      "Epoch 191/300\n",
      "37/37 [==============================] - 0s 2ms/step - loss: 20917816.0000 - val_loss: 23598614.0000\n",
      "Epoch 192/300\n",
      "37/37 [==============================] - 0s 2ms/step - loss: 20881882.0000 - val_loss: 23499130.0000\n",
      "Epoch 193/300\n",
      "37/37 [==============================] - 0s 2ms/step - loss: 20860418.0000 - val_loss: 23494520.0000\n",
      "Epoch 194/300\n",
      "37/37 [==============================] - 0s 2ms/step - loss: 20828714.0000 - val_loss: 23513340.0000\n",
      "Epoch 195/300\n",
      "37/37 [==============================] - 0s 2ms/step - loss: 20804106.0000 - val_loss: 23444776.0000\n",
      "Epoch 196/300\n",
      "37/37 [==============================] - 0s 2ms/step - loss: 20790820.0000 - val_loss: 23413800.0000\n",
      "Epoch 197/300\n",
      "37/37 [==============================] - 0s 2ms/step - loss: 20755000.0000 - val_loss: 23359928.0000\n",
      "Epoch 198/300\n",
      "37/37 [==============================] - 0s 2ms/step - loss: 20737144.0000 - val_loss: 23341356.0000\n",
      "Epoch 199/300\n",
      "37/37 [==============================] - 0s 2ms/step - loss: 20710206.0000 - val_loss: 23299754.0000\n",
      "Epoch 200/300\n",
      "37/37 [==============================] - 0s 2ms/step - loss: 20709448.0000 - val_loss: 23209720.0000\n",
      "Epoch 201/300\n",
      "37/37 [==============================] - 0s 2ms/step - loss: 20711118.0000 - val_loss: 23232954.0000\n",
      "Epoch 202/300\n",
      "37/37 [==============================] - 0s 2ms/step - loss: 20660680.0000 - val_loss: 23221292.0000\n",
      "Epoch 203/300\n",
      "37/37 [==============================] - 0s 2ms/step - loss: 20630604.0000 - val_loss: 23159174.0000\n",
      "Epoch 204/300\n",
      "37/37 [==============================] - 0s 2ms/step - loss: 20597048.0000 - val_loss: 23115822.0000\n",
      "Epoch 205/300\n",
      "37/37 [==============================] - 0s 2ms/step - loss: 20596604.0000 - val_loss: 23050980.0000\n",
      "Epoch 206/300\n",
      "37/37 [==============================] - 0s 2ms/step - loss: 20564500.0000 - val_loss: 23099396.0000\n",
      "Epoch 207/300\n",
      "37/37 [==============================] - 0s 2ms/step - loss: 20547030.0000 - val_loss: 23197708.0000\n",
      "Epoch 208/300\n",
      "37/37 [==============================] - 0s 2ms/step - loss: 20567024.0000 - val_loss: 23031104.0000\n",
      "Epoch 209/300\n",
      "37/37 [==============================] - 0s 2ms/step - loss: 20493174.0000 - val_loss: 23022772.0000\n",
      "Epoch 210/300\n",
      "37/37 [==============================] - 0s 2ms/step - loss: 20494402.0000 - val_loss: 23025424.0000\n",
      "Epoch 211/300\n",
      "37/37 [==============================] - 0s 2ms/step - loss: 20441042.0000 - val_loss: 22887162.0000\n",
      "Epoch 212/300\n",
      "37/37 [==============================] - 0s 2ms/step - loss: 20433326.0000 - val_loss: 22998580.0000\n",
      "Epoch 213/300\n",
      "37/37 [==============================] - 0s 2ms/step - loss: 20422594.0000 - val_loss: 22851314.0000\n",
      "Epoch 214/300\n"
     ]
    },
    {
     "name": "stdout",
     "output_type": "stream",
     "text": [
      "37/37 [==============================] - 0s 2ms/step - loss: 20404196.0000 - val_loss: 22970520.0000\n",
      "Epoch 215/300\n",
      "37/37 [==============================] - 0s 2ms/step - loss: 20381060.0000 - val_loss: 22784486.0000\n",
      "Epoch 216/300\n",
      "37/37 [==============================] - 0s 2ms/step - loss: 20369952.0000 - val_loss: 22820948.0000\n",
      "Epoch 217/300\n",
      "37/37 [==============================] - 0s 2ms/step - loss: 20328878.0000 - val_loss: 22851952.0000\n",
      "Epoch 218/300\n",
      "37/37 [==============================] - 0s 2ms/step - loss: 20317512.0000 - val_loss: 22810740.0000\n",
      "Epoch 219/300\n",
      "37/37 [==============================] - 0s 2ms/step - loss: 20296264.0000 - val_loss: 22766304.0000\n",
      "Epoch 220/300\n",
      "37/37 [==============================] - 0s 2ms/step - loss: 20291636.0000 - val_loss: 22668964.0000\n",
      "Epoch 221/300\n",
      "37/37 [==============================] - 0s 2ms/step - loss: 20249710.0000 - val_loss: 22731852.0000\n",
      "Epoch 222/300\n",
      "37/37 [==============================] - 0s 2ms/step - loss: 20228424.0000 - val_loss: 22683494.0000\n",
      "Epoch 223/300\n",
      "37/37 [==============================] - 0s 2ms/step - loss: 20206662.0000 - val_loss: 22601298.0000\n",
      "Epoch 224/300\n",
      "37/37 [==============================] - 0s 2ms/step - loss: 20188064.0000 - val_loss: 22586078.0000\n",
      "Epoch 225/300\n",
      "37/37 [==============================] - 0s 2ms/step - loss: 20193312.0000 - val_loss: 22581776.0000\n",
      "Epoch 226/300\n",
      "37/37 [==============================] - 0s 2ms/step - loss: 20142768.0000 - val_loss: 22584126.0000\n",
      "Epoch 227/300\n",
      "37/37 [==============================] - 0s 2ms/step - loss: 20153460.0000 - val_loss: 22601030.0000\n",
      "Epoch 228/300\n",
      "37/37 [==============================] - 0s 2ms/step - loss: 20119624.0000 - val_loss: 22521678.0000\n",
      "Epoch 229/300\n",
      "37/37 [==============================] - 0s 2ms/step - loss: 20085266.0000 - val_loss: 22491886.0000\n",
      "Epoch 230/300\n",
      "37/37 [==============================] - 0s 2ms/step - loss: 20075462.0000 - val_loss: 22483866.0000\n",
      "Epoch 231/300\n",
      "37/37 [==============================] - 0s 2ms/step - loss: 20070574.0000 - val_loss: 22390724.0000\n",
      "Epoch 232/300\n",
      "37/37 [==============================] - 0s 2ms/step - loss: 20039466.0000 - val_loss: 22434388.0000\n",
      "Epoch 233/300\n",
      "37/37 [==============================] - 0s 2ms/step - loss: 20033988.0000 - val_loss: 22372352.0000\n",
      "Epoch 234/300\n",
      "37/37 [==============================] - 0s 2ms/step - loss: 19997824.0000 - val_loss: 22360464.0000\n",
      "Epoch 235/300\n",
      "37/37 [==============================] - 0s 2ms/step - loss: 20003524.0000 - val_loss: 22631742.0000\n",
      "Epoch 236/300\n",
      "37/37 [==============================] - 0s 2ms/step - loss: 20010536.0000 - val_loss: 22441290.0000\n",
      "Epoch 237/300\n",
      "37/37 [==============================] - 0s 2ms/step - loss: 19943296.0000 - val_loss: 22291292.0000\n",
      "Epoch 238/300\n",
      "37/37 [==============================] - 0s 2ms/step - loss: 19943084.0000 - val_loss: 22288900.0000\n",
      "Epoch 239/300\n",
      "37/37 [==============================] - 0s 2ms/step - loss: 19917626.0000 - val_loss: 22240894.0000\n",
      "Epoch 240/300\n",
      "37/37 [==============================] - 0s 2ms/step - loss: 19896208.0000 - val_loss: 22397892.0000\n",
      "Epoch 241/300\n",
      "37/37 [==============================] - 0s 2ms/step - loss: 19869934.0000 - val_loss: 22218616.0000\n",
      "Epoch 242/300\n",
      "37/37 [==============================] - 0s 2ms/step - loss: 19865710.0000 - val_loss: 22240110.0000\n",
      "Epoch 243/300\n",
      "37/37 [==============================] - 0s 2ms/step - loss: 19843528.0000 - val_loss: 22238766.0000\n",
      "Epoch 244/300\n",
      "37/37 [==============================] - 0s 2ms/step - loss: 19821926.0000 - val_loss: 22177718.0000\n",
      "Epoch 245/300\n",
      "37/37 [==============================] - 0s 2ms/step - loss: 19804608.0000 - val_loss: 22122526.0000\n",
      "Epoch 246/300\n",
      "37/37 [==============================] - 0s 2ms/step - loss: 19814186.0000 - val_loss: 22130758.0000\n",
      "Epoch 247/300\n",
      "37/37 [==============================] - 0s 2ms/step - loss: 19762890.0000 - val_loss: 22048906.0000\n",
      "Epoch 248/300\n",
      "37/37 [==============================] - 0s 2ms/step - loss: 19751836.0000 - val_loss: 22214608.0000\n",
      "Epoch 249/300\n",
      "37/37 [==============================] - 0s 2ms/step - loss: 19748608.0000 - val_loss: 22073764.0000\n",
      "Epoch 250/300\n",
      "37/37 [==============================] - 0s 2ms/step - loss: 19731586.0000 - val_loss: 22009262.0000\n",
      "Epoch 251/300\n",
      "37/37 [==============================] - 0s 2ms/step - loss: 19710322.0000 - val_loss: 22082340.0000\n",
      "Epoch 252/300\n",
      "37/37 [==============================] - 0s 2ms/step - loss: 19705978.0000 - val_loss: 22027146.0000\n",
      "Epoch 253/300\n",
      "37/37 [==============================] - 0s 2ms/step - loss: 19683912.0000 - val_loss: 22002140.0000\n",
      "Epoch 254/300\n",
      "37/37 [==============================] - 0s 2ms/step - loss: 19665266.0000 - val_loss: 22045684.0000\n",
      "Epoch 255/300\n",
      "37/37 [==============================] - 0s 2ms/step - loss: 19674834.0000 - val_loss: 21932736.0000\n",
      "Epoch 256/300\n",
      "37/37 [==============================] - 0s 2ms/step - loss: 19641018.0000 - val_loss: 22066282.0000\n",
      "Epoch 257/300\n",
      "37/37 [==============================] - 0s 2ms/step - loss: 19618508.0000 - val_loss: 21878080.0000\n",
      "Epoch 258/300\n",
      "37/37 [==============================] - 0s 2ms/step - loss: 19607406.0000 - val_loss: 21837626.0000\n",
      "Epoch 259/300\n",
      "37/37 [==============================] - 0s 2ms/step - loss: 19608276.0000 - val_loss: 21933378.0000\n",
      "Epoch 260/300\n",
      "37/37 [==============================] - 0s 2ms/step - loss: 19605126.0000 - val_loss: 21955764.0000\n",
      "Epoch 261/300\n",
      "37/37 [==============================] - 0s 2ms/step - loss: 19580662.0000 - val_loss: 21912128.0000\n",
      "Epoch 262/300\n",
      "37/37 [==============================] - 0s 2ms/step - loss: 19550624.0000 - val_loss: 21858878.0000\n",
      "Epoch 263/300\n",
      "37/37 [==============================] - 0s 2ms/step - loss: 19548546.0000 - val_loss: 21790868.0000\n",
      "Epoch 264/300\n",
      "37/37 [==============================] - 0s 2ms/step - loss: 19514602.0000 - val_loss: 21714480.0000\n",
      "Epoch 265/300\n",
      "37/37 [==============================] - 0s 2ms/step - loss: 19550720.0000 - val_loss: 21752066.0000\n",
      "Epoch 266/300\n",
      "37/37 [==============================] - 0s 2ms/step - loss: 19497432.0000 - val_loss: 21712554.0000\n",
      "Epoch 267/300\n",
      "37/37 [==============================] - 0s 2ms/step - loss: 19491068.0000 - val_loss: 21796268.0000\n",
      "Epoch 268/300\n",
      "37/37 [==============================] - 0s 2ms/step - loss: 19463456.0000 - val_loss: 21694754.0000\n",
      "Epoch 269/300\n",
      "37/37 [==============================] - 0s 2ms/step - loss: 19459518.0000 - val_loss: 21687428.0000\n",
      "Epoch 270/300\n",
      "37/37 [==============================] - 0s 2ms/step - loss: 19453596.0000 - val_loss: 21640788.0000\n",
      "Epoch 271/300\n",
      "37/37 [==============================] - 0s 2ms/step - loss: 19420934.0000 - val_loss: 21630292.0000\n",
      "Epoch 272/300\n",
      "37/37 [==============================] - 0s 2ms/step - loss: 19419262.0000 - val_loss: 21653438.0000\n",
      "Epoch 273/300\n",
      "37/37 [==============================] - 0s 2ms/step - loss: 19396430.0000 - val_loss: 21623374.0000\n",
      "Epoch 274/300\n",
      "37/37 [==============================] - 0s 2ms/step - loss: 19395162.0000 - val_loss: 21564266.0000\n",
      "Epoch 275/300\n",
      "37/37 [==============================] - 0s 2ms/step - loss: 19378360.0000 - val_loss: 21584218.0000\n",
      "Epoch 276/300\n",
      "37/37 [==============================] - 0s 2ms/step - loss: 19359300.0000 - val_loss: 21610902.0000\n",
      "Epoch 277/300\n",
      "37/37 [==============================] - 0s 2ms/step - loss: 19351176.0000 - val_loss: 21554924.0000\n",
      "Epoch 278/300\n",
      "37/37 [==============================] - 0s 2ms/step - loss: 19331834.0000 - val_loss: 21590370.0000\n",
      "Epoch 279/300\n",
      "37/37 [==============================] - 0s 2ms/step - loss: 19311938.0000 - val_loss: 21477734.0000\n",
      "Epoch 280/300\n",
      "37/37 [==============================] - 0s 2ms/step - loss: 19312736.0000 - val_loss: 21536276.0000\n",
      "Epoch 281/300\n",
      "37/37 [==============================] - 0s 2ms/step - loss: 19314064.0000 - val_loss: 21492840.0000\n",
      "Epoch 282/300\n",
      "37/37 [==============================] - 0s 2ms/step - loss: 19306620.0000 - val_loss: 21493390.0000\n",
      "Epoch 283/300\n",
      "37/37 [==============================] - 0s 2ms/step - loss: 19282742.0000 - val_loss: 21540848.0000\n",
      "Epoch 284/300\n",
      "37/37 [==============================] - 0s 2ms/step - loss: 19267114.0000 - val_loss: 21494502.0000\n",
      "Epoch 285/300\n"
     ]
    },
    {
     "name": "stdout",
     "output_type": "stream",
     "text": [
      "37/37 [==============================] - 0s 2ms/step - loss: 19251330.0000 - val_loss: 21558468.0000\n",
      "Epoch 286/300\n",
      "37/37 [==============================] - 0s 2ms/step - loss: 19232130.0000 - val_loss: 21375856.0000\n",
      "Epoch 287/300\n",
      "37/37 [==============================] - 0s 2ms/step - loss: 19227550.0000 - val_loss: 21361516.0000\n",
      "Epoch 288/300\n",
      "37/37 [==============================] - 0s 2ms/step - loss: 19213062.0000 - val_loss: 21454604.0000\n",
      "Epoch 289/300\n",
      "37/37 [==============================] - 0s 2ms/step - loss: 19184256.0000 - val_loss: 21321632.0000\n",
      "Epoch 290/300\n",
      "37/37 [==============================] - 0s 2ms/step - loss: 19209520.0000 - val_loss: 21376618.0000\n",
      "Epoch 291/300\n",
      "37/37 [==============================] - 0s 2ms/step - loss: 19183848.0000 - val_loss: 21349108.0000\n",
      "Epoch 292/300\n",
      "37/37 [==============================] - 0s 2ms/step - loss: 19170604.0000 - val_loss: 21421680.0000\n",
      "Epoch 293/300\n",
      "37/37 [==============================] - 0s 2ms/step - loss: 19181130.0000 - val_loss: 21278582.0000\n",
      "Epoch 294/300\n",
      "37/37 [==============================] - 0s 2ms/step - loss: 19176860.0000 - val_loss: 21290750.0000\n",
      "Epoch 295/300\n",
      "37/37 [==============================] - 0s 2ms/step - loss: 19128788.0000 - val_loss: 21350418.0000\n",
      "Epoch 296/300\n",
      "37/37 [==============================] - 0s 2ms/step - loss: 19122010.0000 - val_loss: 21271464.0000\n",
      "Epoch 297/300\n",
      "37/37 [==============================] - 0s 2ms/step - loss: 19114220.0000 - val_loss: 21304246.0000\n",
      "Epoch 298/300\n",
      "37/37 [==============================] - 0s 2ms/step - loss: 19133510.0000 - val_loss: 21214914.0000\n",
      "Epoch 299/300\n",
      "37/37 [==============================] - 0s 2ms/step - loss: 19100824.0000 - val_loss: 21272222.0000\n",
      "Epoch 300/300\n",
      "37/37 [==============================] - 0s 2ms/step - loss: 19107964.0000 - val_loss: 21302134.0000\n"
     ]
    },
    {
     "data": {
      "text/plain": [
       "<keras.callbacks.History at 0x29bc1713850>"
      ]
     },
     "execution_count": 110,
     "metadata": {},
     "output_type": "execute_result"
    }
   ],
   "source": [
    "model.fit(x= X_train, y = y_train, validation_data = (X_test, y_test), batch_size = 250, epochs = 300)"
   ]
  },
  {
   "cell_type": "code",
   "execution_count": 114,
   "id": "c55baf2c",
   "metadata": {},
   "outputs": [],
   "source": [
    "loss_data = pd.DataFrame(model.history.history)"
   ]
  },
  {
   "cell_type": "code",
   "execution_count": 115,
   "id": "842d2402",
   "metadata": {},
   "outputs": [
    {
     "data": {
      "text/html": [
       "<div>\n",
       "<style scoped>\n",
       "    .dataframe tbody tr th:only-of-type {\n",
       "        vertical-align: middle;\n",
       "    }\n",
       "\n",
       "    .dataframe tbody tr th {\n",
       "        vertical-align: top;\n",
       "    }\n",
       "\n",
       "    .dataframe thead th {\n",
       "        text-align: right;\n",
       "    }\n",
       "</style>\n",
       "<table border=\"1\" class=\"dataframe\">\n",
       "  <thead>\n",
       "    <tr style=\"text-align: right;\">\n",
       "      <th></th>\n",
       "      <th>loss</th>\n",
       "      <th>val_loss</th>\n",
       "    </tr>\n",
       "  </thead>\n",
       "  <tbody>\n",
       "    <tr>\n",
       "      <th>0</th>\n",
       "      <td>674377472.0</td>\n",
       "      <td>682883456.0</td>\n",
       "    </tr>\n",
       "    <tr>\n",
       "      <th>1</th>\n",
       "      <td>674346752.0</td>\n",
       "      <td>682829312.0</td>\n",
       "    </tr>\n",
       "    <tr>\n",
       "      <th>2</th>\n",
       "      <td>674244992.0</td>\n",
       "      <td>682651264.0</td>\n",
       "    </tr>\n",
       "    <tr>\n",
       "      <th>3</th>\n",
       "      <td>673932160.0</td>\n",
       "      <td>682131584.0</td>\n",
       "    </tr>\n",
       "    <tr>\n",
       "      <th>4</th>\n",
       "      <td>673091392.0</td>\n",
       "      <td>680818560.0</td>\n",
       "    </tr>\n",
       "  </tbody>\n",
       "</table>\n",
       "</div>"
      ],
      "text/plain": [
       "          loss     val_loss\n",
       "0  674377472.0  682883456.0\n",
       "1  674346752.0  682829312.0\n",
       "2  674244992.0  682651264.0\n",
       "3  673932160.0  682131584.0\n",
       "4  673091392.0  680818560.0"
      ]
     },
     "execution_count": 115,
     "metadata": {},
     "output_type": "execute_result"
    }
   ],
   "source": [
    "loss_data.head()"
   ]
  },
  {
   "cell_type": "code",
   "execution_count": 116,
   "id": "d32be4fe",
   "metadata": {},
   "outputs": [
    {
     "data": {
      "text/plain": [
       "<AxesSubplot:>"
      ]
     },
     "execution_count": 116,
     "metadata": {},
     "output_type": "execute_result"
    },
    {
     "data": {
      "image/png": "[encoded data removed]",
      "text/plain": [
       "<Figure size 640x480 with 1 Axes>"
      ]
     },
     "metadata": {},
     "output_type": "display_data"
    }
   ],
   "source": [
    "loss_data.plot()"
   ]
  },
  {
   "cell_type": "code",
   "execution_count": 120,
   "id": "ba8f0212",
   "metadata": {},
   "outputs": [],
   "source": [
    "from sklearn.metrics import mean_squared_error, mean_absolute_error"
   ]
  },
  {
   "cell_type": "code",
   "execution_count": 122,
   "id": "c57674d2",
   "metadata": {},
   "outputs": [
    {
     "name": "stdout",
     "output_type": "stream",
     "text": [
      "122/122 [==============================] - 0s 2ms/step\n"
     ]
    }
   ],
   "source": [
    "tahmin_dizisi = model.predict(X_test)"
   ]
  },
  {
   "cell_type": "code",
   "execution_count": 123,
   "id": "d82193ff",
   "metadata": {},
   "outputs": [
    {
     "data": {
      "text/plain": [
       "array([[23906.973],\n",
       "       [21559.006],\n",
       "       [15229.754],\n",
       "       ...,\n",
       "       [19954.13 ],\n",
       "       [33525.934],\n",
       "       [24302.66 ]], dtype=float32)"
      ]
     },
     "execution_count": 123,
     "metadata": {},
     "output_type": "execute_result"
    }
   ],
   "source": [
    "tahmin_dizisi"
   ]
  },
  {
   "cell_type": "code",
   "execution_count": 125,
   "id": "efce71be",
   "metadata": {},
   "outputs": [
    {
     "data": {
      "text/plain": [
       "3261.6335165108476"
      ]
     },
     "execution_count": 125,
     "metadata": {},
     "output_type": "execute_result"
    }
   ],
   "source": [
    "mean_absolute_error(y_test, tahmin_dizisi)"
   ]
  },
  {
   "cell_type": "code",
   "execution_count": 126,
   "id": "ba04829f",
   "metadata": {},
   "outputs": [
    {
     "data": {
      "text/plain": [
       "[<matplotlib.lines.Line2D at 0x29bc537e0e0>]"
      ]
     },
     "execution_count": 126,
     "metadata": {},
     "output_type": "execute_result"
    },
    {
     "data": {
      "image/png": "[encoded data removed]",
      "text/plain": [
       "<Figure size 640x480 with 1 Axes>"
      ]
     },
     "metadata": {},
     "output_type": "display_data"
    }
   ],
   "source": [
    "plt.scatter(y_test, tahmin_dizisi)\n",
    "plt.plot(y_test, y_test, \"g-*\")"
   ]
  },
  {
   "cell_type": "code",
   "execution_count": 127,
   "id": "94a84aac",
   "metadata": {},
   "outputs": [
    {
     "data": {
      "text/plain": [
       "year           2020.0\n",
       "price         65980.0\n",
       "mileage        3999.0\n",
       "tax             145.0\n",
       "mpg              28.0\n",
       "engineSize        4.0\n",
       "Name: 3191, dtype: float64"
      ]
     },
     "execution_count": 127,
     "metadata": {},
     "output_type": "execute_result"
    }
   ],
   "source": [
    "df.iloc[2]"
   ]
  },
  {
   "cell_type": "code",
   "execution_count": 128,
   "id": "52960890",
   "metadata": {},
   "outputs": [],
   "source": [
    "yeniArabaSeries = df.drop(\"price\", axis=1).iloc[2]"
   ]
  },
  {
   "cell_type": "code",
   "execution_count": 129,
   "id": "d34ceebd",
   "metadata": {},
   "outputs": [],
   "source": [
    "yeniArabaSeries = scaler.transform(yeniArabaSeries.values.reshape(-1,5))"
   ]
  },
  {
   "cell_type": "code",
   "execution_count": 130,
   "id": "ecdfde57",
   "metadata": {},
   "outputs": [
    {
     "name": "stdout",
     "output_type": "stream",
     "text": [
      "1/1 [==============================] - 0s 29ms/step\n"
     ]
    },
    {
     "data": {
      "text/plain": [
       "array([[61483.598]], dtype=float32)"
      ]
     },
     "execution_count": 130,
     "metadata": {},
     "output_type": "execute_result"
    }
   ],
   "source": [
    "model.predict(yeniArabaSeries)"
   ]
  },
  {
   "cell_type": "code",
   "execution_count": null,
   "id": "9720ec68",
   "metadata": {},
   "outputs": [],
   "source": [
    "#  gerçek fiyat:  65980.0, tahmin: 61483.598"
   ]
  }
 ],
 "metadata": {
  "kernelspec": {
   "display_name": "Python 3 (ipykernel)",
   "language": "python",
   "name": "python3"
  },
  "language_info": {
   "codemirror_mode": {
    "name": "ipython",
    "version": 3
   },
   "file_extension": ".py",
   "mimetype": "text/x-python",
   "name": "python",
   "nbconvert_exporter": "python",
   "pygments_lexer": "ipython3",
   "version": "3.10.4"
  }
 },
 "nbformat": 4,
 "nbformat_minor": 5
}
